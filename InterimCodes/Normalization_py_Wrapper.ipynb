{
 "cells": [
  {
   "cell_type": "code",
   "execution_count": 6,
   "metadata": {},
   "outputs": [],
   "source": [
    "import os\n",
    "import subprocess"
   ]
  },
  {
   "cell_type": "code",
   "execution_count": 20,
   "metadata": {},
   "outputs": [],
   "source": [
    "#subject list\n",
    "subject_list = os.listdir(\"/data/wellbeing_bids\")\n",
    "subject_list.remove('dataset_description.json')\n",
    "subject_list = [sub[-4:] for sub in subject_list]\n",
    "subject_list.sort()\n"
   ]
  },
  {
   "cell_type": "code",
   "execution_count": 21,
   "metadata": {},
   "outputs": [
    {
     "data": {
      "text/plain": [
       "249"
      ]
     },
     "execution_count": 21,
     "metadata": {},
     "output_type": "execute_result"
    }
   ],
   "source": [
    "len(subject_list)"
   ]
  },
  {
   "cell_type": "markdown",
   "metadata": {},
   "source": [
    "# args"
   ]
  },
  {
   "cell_type": "code",
   "execution_count": 5,
   "metadata": {},
   "outputs": [
    {
     "name": "stdout",
     "output_type": "stream",
     "text": [
      "['python', '/home/zohyos7/Normalization_ANT.py', '3170', '2584', '2654']\n",
      "['python', '/home/zohyos7/Normalization_ANT.py', '2961', '2652', '2640']\n",
      "['python', '/home/zohyos7/Normalization_ANT.py', '3027', '2636', '2871']\n",
      "['python', '/home/zohyos7/Normalization_ANT.py', '2599', '3015', '3085']\n",
      "['python', '/home/zohyos7/Normalization_ANT.py', '3118', '3104', '2544']\n",
      "['python', '/home/zohyos7/Normalization_ANT.py', '2590', '3119', '2656']\n",
      "['python', '/home/zohyos7/Normalization_ANT.py', '2639', '2947', '2583']\n",
      "['python', '/home/zohyos7/Normalization_ANT.py', '3028', '2642', '2672']\n",
      "['python', '/home/zohyos7/Normalization_ANT.py', '2682', '3106', '2371']\n",
      "['python', '/home/zohyos7/Normalization_ANT.py', '2616', '2581', '2725']\n",
      "['python', '/home/zohyos7/Normalization_ANT.py', '2360', '3068', '2651']\n",
      "['python', '/home/zohyos7/Normalization_ANT.py', '2806', '2588', '2761']\n",
      "['python', '/home/zohyos7/Normalization_ANT.py', '2631', '2365', '2633']\n",
      "['python', '/home/zohyos7/Normalization_ANT.py', '2680', '3179', '2540']\n",
      "['python', '/home/zohyos7/Normalization_ANT.py', '3026', '2613', '2981']\n",
      "['python', '/home/zohyos7/Normalization_ANT.py', '3108', '3126', '3107']\n",
      "['python', '/home/zohyos7/Normalization_ANT.py', '3047', '2855', '2596']\n",
      "['python', '/home/zohyos7/Normalization_ANT.py', '2783', '2723', '2609']\n",
      "['python', '/home/zohyos7/Normalization_ANT.py', '2838', '2840', '2359']\n",
      "['python', '/home/zohyos7/Normalization_ANT.py', '2602', '3120', '3132']\n",
      "['python', '/home/zohyos7/Normalization_ANT.py', '2597', '2808', '2573']\n"
     ]
    }
   ],
   "source": [
    "for i_start in range(0, len(subject_list), 3):\n",
    "    i_end = i_start + 3\n",
    "    args = [\"python\", \"/home/zohyos7/Normalization_ANT.py\", *subject_list[i_start:i_end]]\n",
    "    print(args)\n",
    "    subprocess.call(args)"
   ]
  },
  {
   "cell_type": "code",
   "execution_count": null,
   "metadata": {},
   "outputs": [
    {
     "name": "stdout",
     "output_type": "stream",
     "text": [
      "['python', '/home/zohyos7/2_Normalization.py', '2359', '2360', '2364']\n",
      "['python', '/home/zohyos7/2_Normalization.py', '2365', '2371', '2377']\n"
     ]
    }
   ],
   "source": [
    "for i_start in range(0, len(subject_list), 3):\n",
    "    i_end = i_start + 3\n",
    "    args = [\"python\", \"/home/zohyos7/2_Normalization.py\", *subject_list[i_start:i_end]]\n",
    "    print(args)\n",
    "    subprocess.call(args)"
   ]
  },
  {
   "cell_type": "code",
   "execution_count": null,
   "metadata": {},
   "outputs": [],
   "source": []
  }
 ],
 "metadata": {
  "kernelspec": {
   "display_name": "Python 3",
   "language": "python",
   "name": "python3"
  },
  "language_info": {
   "codemirror_mode": {
    "name": "ipython",
    "version": 3
   },
   "file_extension": ".py",
   "mimetype": "text/x-python",
   "name": "python",
   "nbconvert_exporter": "python",
   "pygments_lexer": "ipython3",
   "version": "3.6.5"
  }
 },
 "nbformat": 4,
 "nbformat_minor": 2
}
