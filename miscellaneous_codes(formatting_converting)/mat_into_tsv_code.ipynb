{
 "cells": [
  {
   "cell_type": "code",
   "execution_count": 1,
   "metadata": {},
   "outputs": [],
   "source": [
    "import scipy.io as sio\n",
    "import numpy as np\n",
    "import os\n",
    "import csv\n",
    "import pandas as pd\n",
    "os.chdir('/data/wellbeing_bids/')"
   ]
  },
  {
   "cell_type": "code",
   "execution_count": null,
   "metadata": {},
   "outputs": [],
   "source": []
  },
  {
   "cell_type": "code",
   "execution_count": 3,
   "metadata": {},
   "outputs": [],
   "source": [
    "mat_contents = sio.loadmat('2357ZL_Empathy.mat')"
   ]
  },
  {
   "cell_type": "code",
   "execution_count": 5,
   "metadata": {},
   "outputs": [],
   "source": [
    "vals = mat_contents['p'][0,0]"
   ]
  },
  {
   "cell_type": "code",
   "execution_count": 6,
   "metadata": {},
   "outputs": [],
   "source": [
    "keys = mat_contents['p'][0,0].dtype.descr"
   ]
  },
  {
   "cell_type": "code",
   "execution_count": 13,
   "metadata": {},
   "outputs": [],
   "source": [
    "label = []\n",
    "for i in range(vals['recLabel'][0].shape[0]):\n",
    "    val = vals['recLabel'][0][i][0]\n",
    "    label.append(val)"
   ]
  },
  {
   "cell_type": "code",
   "execution_count": 16,
   "metadata": {},
   "outputs": [],
   "source": [
    "rec = pd.DataFrame(mat_contents['rec'], columns = label)"
   ]
  },
  {
   "cell_type": "code",
   "execution_count": 17,
   "metadata": {},
   "outputs": [],
   "source": [
    "Task_Names = ['Affect',\n",
    "             'Empathy',\n",
    "             'GoNogo',\n",
    "             'Reward',\n",
    "             'ToM']"
   ]
  },
  {
   "cell_type": "code",
   "execution_count": 7,
   "metadata": {},
   "outputs": [],
   "source": [
    "d = []\n",
    "for filename in os.listdir(\"./behav\"):\n",
    "    if os.path.exists(os.path.join(\"{}{}\".format('sub-', filename[:4]), 'func')) == False:\n",
    "        d.append(filename[:4])"
   ]
  },
  {
   "cell_type": "code",
   "execution_count": 8,
   "metadata": {},
   "outputs": [
    {
     "data": {
      "text/plain": [
       "['2357',\n",
       " '2357',\n",
       " '2357',\n",
       " '2357',\n",
       " '2357',\n",
       " '2357',\n",
       " '2357',\n",
       " '2357',\n",
       " '2357',\n",
       " '2357',\n",
       " '2357',\n",
       " '2357']"
      ]
     },
     "execution_count": 8,
     "metadata": {},
     "output_type": "execute_result"
    }
   ],
   "source": [
    "d"
   ]
  },
  {
   "cell_type": "code",
   "execution_count": 24,
   "metadata": {},
   "outputs": [],
   "source": [
    "for filename in os.listdir(\"./behav\"):\n",
    "    if filename[7:-4] in Task_Names:\n",
    "        mat_contents = sio.loadmat(os.path.join('behav',filename))\n",
    "        vals = mat_contents['p'][0,0]\n",
    "        label = []\n",
    "        for i in range(vals['recLabel'][0].shape[0]):\n",
    "            val = vals['recLabel'][0][i][0]\n",
    "            label.append(val)\n",
    "        rec = pd.DataFrame(mat_contents['rec'], columns = label)\n",
    "        if os.path.exists(os.path.join(\"{}{}\".format('sub-',filename[:4]),'func')) == True:\n",
    "            rec.to_csv(os.path.join(\"{}{}\".format('sub-',filename[:4]),\n",
    "                                    'func',\n",
    "                                    \"{}{}{}{}{}\".format('sub-',\n",
    "                                                        filename[:4],\n",
    "                                                        '_task-',\n",
    "                                                        filename[7:-4].lower(),\n",
    "                                                        '_bold.tsv')),\n",
    "                   sep='\\t', quoting=csv.QUOTE_NONE)"
   ]
  },
  {
   "cell_type": "code",
   "execution_count": 23,
   "metadata": {},
   "outputs": [],
   "source": [
    "#for filename in os.listdir(\".\"):\n",
    "#    for task in Task_Names:\n",
    "#        if os.path.exists(os.path.join(filename, func, \"{}{}{}{}\".format(filename,'_task-',task.lower(),'_bold.tsv'))) == True:\n",
    "#            root_dir = './'\n",
    "#            dataset_tsv_folder = root_dir + filename\n",
    "#            dataset_tsv_name= \"{}{}{}{}\".format(filename,'_task-',task.lower(),'_bold.tsv')\n",
    "#            os.remove(os.path.join(dataset_tsv_folder, func, dataset_tsv_name))"
   ]
  }
 ],
 "metadata": {
  "kernelspec": {
   "display_name": "Python 3",
   "language": "python",
   "name": "python3"
  },
  "language_info": {
   "codemirror_mode": {
    "name": "ipython",
    "version": 3
   },
   "file_extension": ".py",
   "mimetype": "text/x-python",
   "name": "python",
   "nbconvert_exporter": "python",
   "pygments_lexer": "ipython3",
   "version": "3.6.5"
  }
 },
 "nbformat": 4,
 "nbformat_minor": 2
}
