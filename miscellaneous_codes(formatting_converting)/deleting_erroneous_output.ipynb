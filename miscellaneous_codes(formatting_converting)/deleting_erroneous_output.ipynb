{
 "cells": [
  {
   "cell_type": "code",
   "execution_count": 31,
   "metadata": {},
   "outputs": [],
   "source": [
    "import os"
   ]
  },
  {
   "cell_type": "code",
   "execution_count": 32,
   "metadata": {},
   "outputs": [],
   "source": [
    "subj_done = []\n",
    "for subj in os.listdir('/data/wellbeing_analysis/datasink/1stLevel/'):\n",
    "    if os.path.exists('/data/wellbeing_analysis/datasink/1stLevel/%s/task-affect' % subj) == True:\n",
    "        subj_done.append(subj)"
   ]
  },
  {
   "cell_type": "code",
   "execution_count": 33,
   "metadata": {},
   "outputs": [],
   "source": [
    "subj_done.sort()"
   ]
  },
  {
   "cell_type": "code",
   "execution_count": 34,
   "metadata": {},
   "outputs": [],
   "source": [
    "full_subj = os.listdir('/data/wellbeing_analysis/datasink/1stLevel/')"
   ]
  },
  {
   "cell_type": "code",
   "execution_count": 35,
   "metadata": {},
   "outputs": [],
   "source": [
    "subj_ongoing = list(set(full_subj)^set(subj_done))"
   ]
  },
  {
   "cell_type": "code",
   "execution_count": 36,
   "metadata": {},
   "outputs": [
    {
     "data": {
      "text/plain": [
       "[]"
      ]
     },
     "execution_count": 36,
     "metadata": {},
     "output_type": "execute_result"
    }
   ],
   "source": [
    "subj_ongoing"
   ]
  },
  {
   "cell_type": "code",
   "execution_count": 1,
   "metadata": {},
   "outputs": [
    {
     "name": "stdout",
     "output_type": "stream",
     "text": [
      "sub-2377\n",
      "sub-2600\n",
      "sub-3107\n",
      "sub-3047\n",
      "sub-3121\n",
      "sub-3108\n",
      "sub-2360\n",
      "sub-3009\n",
      "sub-2627\n",
      "sub-2769\n",
      "sub-2652\n",
      "sub-2523\n",
      "sub-2599\n",
      "sub-2636\n",
      "sub-2657\n",
      "sub-2725\n",
      "sub-2947\n",
      "sub-2899\n",
      "sub-2644\n",
      "sub-3181\n",
      "sub-3126\n",
      "sub-2799\n",
      "sub-2838\n",
      "sub-3052\n",
      "sub-2594\n",
      "sub-2613\n",
      "sub-2602\n",
      "sub-2588\n",
      "sub-3094\n",
      "sub-2797\n",
      "sub-2365\n",
      "sub-2680\n",
      "sub-2596\n",
      "sub-2505\n",
      "sub-2649\n",
      "sub-3105\n",
      "sub-3106\n",
      "sub-3079\n",
      "sub-2620\n",
      "sub-2616\n",
      "sub-2540\n",
      "sub-2584\n",
      "sub-2371\n",
      "sub-2642\n",
      "sub-2981\n",
      "sub-2713\n",
      "sub-2927\n",
      "sub-2364\n",
      "sub-2958\n",
      "sub-2538\n",
      "sub-2687\n",
      "sub-2969\n",
      "sub-3166\n",
      "sub-2972\n",
      "sub-2974\n",
      "sub-2663\n",
      "sub-2617\n",
      "sub-3059\n",
      "sub-3148\n",
      "sub-2830\n",
      "sub-2858\n",
      "sub-2901\n",
      "sub-3083\n",
      "sub-2895\n",
      "sub-2542\n",
      "sub-2556\n",
      "sub-2832\n",
      "sub-2570\n",
      "sub-2862\n",
      "sub-3029\n",
      "sub-2648\n",
      "sub-2790\n",
      "sub-2643\n",
      "sub-2605\n",
      "sub-2610\n",
      "sub-2582\n",
      "sub-3051\n",
      "sub-2844\n",
      "sub-2634\n",
      "sub-3130\n",
      "sub-2689\n",
      "sub-2524\n",
      "sub-2737\n",
      "sub-2670\n",
      "sub-2842\n",
      "sub-2785\n",
      "sub-2667\n",
      "sub-2632\n",
      "sub-2998\n",
      "sub-2820\n",
      "sub-2908\n",
      "sub-2890\n",
      "sub-2798\n",
      "sub-3136\n",
      "sub-2658\n",
      "sub-3190\n",
      "sub-2915\n",
      "sub-2853\n",
      "sub-2555\n",
      "sub-2679\n",
      "sub-2996\n",
      "sub-3050\n",
      "sub-2688\n",
      "sub-2548\n",
      "sub-2645\n",
      "sub-2568\n",
      "sub-2625\n",
      "sub-2959\n",
      "sub-2966\n",
      "sub-2970\n",
      "sub-2793\n",
      "sub-3038\n",
      "sub-3125\n",
      "sub-3141\n",
      "sub-2839\n",
      "sub-3156\n",
      "sub-2577\n",
      "sub-2868\n",
      "sub-2815\n",
      "sub-3188\n",
      "sub-2593\n",
      "sub-2641\n",
      "sub-2751\n",
      "sub-3113\n",
      "sub-3115\n",
      "sub-2603\n",
      "sub-2869\n",
      "sub-3112\n",
      "sub-2821\n",
      "sub-2883\n",
      "sub-2431\n",
      "sub-2935\n",
      "sub-3154\n",
      "sub-3002\n",
      "sub-2841\n",
      "sub-2763\n",
      "sub-2623\n",
      "sub-2554\n",
      "sub-3024\n",
      "sub-2595\n",
      "sub-2918\n",
      "sub-3184\n",
      "sub-3111\n",
      "sub-3142\n",
      "sub-2678\n",
      "sub-2622\n",
      "sub-2638\n",
      "sub-2904\n",
      "sub-3090\n",
      "sub-2486\n",
      "sub-2655\n",
      "sub-3087\n",
      "sub-2753\n",
      "sub-3153\n",
      "sub-2851\n",
      "sub-2693\n",
      "sub-3123\n",
      "sub-3005\n",
      "sub-3098\n",
      "sub-2561\n",
      "sub-2800\n",
      "sub-2591\n",
      "sub-3091\n",
      "sub-2666\n",
      "sub-2661\n",
      "sub-2607\n",
      "sub-2528\n",
      "sub-2684\n",
      "sub-3043\n",
      "sub-3040\n",
      "sub-2653\n",
      "sub-3140\n",
      "sub-2677\n"
     ]
    }
   ],
   "source": [
    "import shutil\n",
    "import os\n",
    "for subj in os.listdir('/data/wellbeing_analysis/datasink/antsflow/'):\n",
    "    if os.path.exists('/data/wellbeing_analysis/datasink/antsflow/%s/con/task-affect' %subj) == True:\n",
    "        shutil.rmtree('/data/wellbeing_analysis/datasink/antsflow/%s/con/task-affect' %subj)\n",
    "        print(subj)"
   ]
  },
  {
   "cell_type": "code",
   "execution_count": null,
   "metadata": {},
   "outputs": [],
   "source": [
    "import shutil\n",
    "import os\n",
    "for subj in os.listdir('/data/wellbeing_analysis/datasink/antsflow/'):\n",
    "    if os.path.exists('/data/wellbeing_analysis/datasink/antsflow/%s/con/task-affect' %subj) == True:\n",
    "        shutil.rmtree('/data/wellbeing_analysis/datasink/antsflow/%s/con/task-affect' %subj)\n",
    "        print(subj)"
   ]
  },
  {
   "cell_type": "code",
   "execution_count": null,
   "metadata": {},
   "outputs": [],
   "source": []
  }
 ],
 "metadata": {
  "kernelspec": {
   "display_name": "Python 3",
   "language": "python",
   "name": "python3"
  },
  "language_info": {
   "codemirror_mode": {
    "name": "ipython",
    "version": 3
   },
   "file_extension": ".py",
   "mimetype": "text/x-python",
   "name": "python",
   "nbconvert_exporter": "python",
   "pygments_lexer": "ipython3",
   "version": "3.6.5"
  }
 },
 "nbformat": 4,
 "nbformat_minor": 2
}
