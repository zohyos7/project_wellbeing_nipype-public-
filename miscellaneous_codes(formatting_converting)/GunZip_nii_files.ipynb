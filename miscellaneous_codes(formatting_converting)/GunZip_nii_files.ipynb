{
 "cells": [
  {
   "cell_type": "code",
   "execution_count": 1,
   "metadata": {},
   "outputs": [],
   "source": [
    "import os\n",
    "import gzip\n",
    "import shutil"
   ]
  },
  {
   "cell_type": "code",
   "execution_count": 2,
   "metadata": {},
   "outputs": [],
   "source": [
    "os.chdir('/data/wellbeing_bids')"
   ]
  },
  {
   "cell_type": "code",
   "execution_count": 4,
   "metadata": {},
   "outputs": [],
   "source": [
    "Task_Names = ['affect',\n",
    "              'empathy',\n",
    "              'gonogo',\n",
    "              'reward',\n",
    "              'resting',\n",
    "              'tom']"
   ]
  },
  {
   "cell_type": "code",
   "execution_count": 5,
   "metadata": {},
   "outputs": [],
   "source": [
    "#for anatomical file\n",
    "for folder in os.listdir(\".\"):\n",
    "    if os.path.exists(os.path.join(folder, 'anat', \"{}{}\".format(folder,'_T1w.nii'))) == True:\n",
    "        with open(os.path.join(folder, 'anat', \"{}{}\".format(folder,'_T1w.nii')), 'rb') as f_in, gzip.open(os.path.join(folder, 'anat', \"{}{}\".format(folder,'_T1w.nii.gz')), 'wb') as f_out:\n",
    "            shutil.copyfileobj(f_in, f_out)\n",
    "        os.remove(os.path.join(folder, 'anat', \"{}{}\".format(folder,'_T1w.nii')))\n",
    "        print(folder)"
   ]
  },
  {
   "cell_type": "code",
   "execution_count": null,
   "metadata": {},
   "outputs": [],
   "source": [
    "for folder in os.listdir(\".\"):\n",
    "    for task in Task_Names:\n",
    "        if os.path.exists(os.path.join(folder, 'func', \"{}{}{}{}\".format(folder,'_task-',task,'_bold.nii'))) == True:\n",
    "            with open(os.path.join(folder, 'func', \"{}{}{}{}\".format(folder,'_task-',task,'_bold.nii')), 'rb') as f_in, gzip.open(os.path.join(folder, 'func', \"{}{}{}{}\".format(folder,'_task-',task,'_bold.nii.gz')), 'wb') as f_out:\n",
    "                shutil.copyfileobj(f_in, f_out)\n",
    "            os.remove(os.path.join(folder, 'func', \"{}{}{}{}\".format(folder,'_task-',task,'_bold.nii')))\n",
    "            print(folder, task)"
   ]
  },
  {
   "cell_type": "code",
   "execution_count": null,
   "metadata": {},
   "outputs": [],
   "source": []
  }
 ],
 "metadata": {
  "kernelspec": {
   "display_name": "Python 3",
   "language": "python",
   "name": "python3"
  },
  "language_info": {
   "codemirror_mode": {
    "name": "ipython",
    "version": 3
   },
   "file_extension": ".py",
   "mimetype": "text/x-python",
   "name": "python",
   "nbconvert_exporter": "python",
   "pygments_lexer": "ipython3",
   "version": "3.6.5"
  }
 },
 "nbformat": 4,
 "nbformat_minor": 2
}
