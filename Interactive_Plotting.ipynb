{
 "cells": [
  {
   "cell_type": "code",
   "execution_count": 14,
   "metadata": {},
   "outputs": [
    {
     "data": {
      "text/plain": [
       "<Figure size 432x288 with 0 Axes>"
      ]
     },
     "metadata": {},
     "output_type": "display_data"
    },
    {
     "data": {
      "application/vnd.jupyter.widget-view+json": {
       "model_id": "a452d2a9036446d1b1636648880c3b36",
       "version_major": 2,
       "version_minor": 0
      },
      "text/plain": [
       "interactive(children=(Dropdown(description='colormap', options=('viridis', 'Accent', 'Blues', 'BrBG', 'BuGn', …"
      ]
     },
     "metadata": {},
     "output_type": "display_data"
    }
   ],
   "source": [
    "from niwidgets import NiftiWidget\n",
    "from nilearn import plotting\n",
    "atlas_widget = NiftiWidget('/data/wellbeing_analysis/datasink/2ndLevel/task_tom/fwhm_4/con_0001/mask.nii')\n",
    "atlas_widget.nifti_plotter(plotting_func=plotting.plot_img)"
   ]
  },
  {
   "cell_type": "markdown",
   "metadata": {},
   "source": [
    "# TOM task \n",
    "## 2nd level one-sample ttest\n",
    "## belief > photo contrast (ALL list)"
   ]
  },
  {
   "cell_type": "code",
   "execution_count": 16,
   "metadata": {
    "scrolled": false
   },
   "outputs": [
    {
     "data": {
      "text/plain": [
       "<Figure size 432x288 with 0 Axes>"
      ]
     },
     "metadata": {},
     "output_type": "display_data"
    },
    {
     "data": {
      "application/vnd.jupyter.widget-view+json": {
       "model_id": "3a850c766c564fa4beaf7a6251ed7db1",
       "version_major": 2,
       "version_minor": 0
      },
      "text/plain": [
       "interactive(children=(Text(value='/home/zohyos7/fmri/mni_icbm152_nlin_asym_09c/1mm_T1.nii.gz', description='bg…"
      ]
     },
     "metadata": {},
     "output_type": "display_data"
    }
   ],
   "source": [
    "atlas_widget = NiftiWidget('/data/wellbeing_analysis/datasink/2ndLevel/task_tom/fwhm_8/con_0004/spmT_0001.nii')\n",
    "atlas_widget.nifti_plotter(plotting_func=plotting.plot_stat_map, bg_img = '/home/zohyos7/fmri/mni_icbm152_nlin_asym_09c/1mm_T1.nii.gz', threshold=2, vmax=8, display_mode='ortho', cmap='viridis')"
   ]
  },
  {
   "cell_type": "markdown",
   "metadata": {},
   "source": [
    "## belief > photo contrast (w/o Black list)"
   ]
  },
  {
   "cell_type": "code",
   "execution_count": 20,
   "metadata": {},
   "outputs": [
    {
     "data": {
      "text/plain": [
       "<Figure size 432x288 with 0 Axes>"
      ]
     },
     "metadata": {},
     "output_type": "display_data"
    },
    {
     "data": {
      "application/vnd.jupyter.widget-view+json": {
       "model_id": "8b1d6fa7ce69472e808c2e1a85bbbfec",
       "version_major": 2,
       "version_minor": 0
      },
      "text/plain": [
       "interactive(children=(Text(value='/home/zohyos7/fmri/mni_icbm152_nlin_asym_09c/1mm_T1.nii.gz', description='bg…"
      ]
     },
     "metadata": {},
     "output_type": "display_data"
    }
   ],
   "source": [
    "atlas_widget = NiftiWidget('/data/wellbeing_analysis/datasink/BL_one_sample/task_tom/fwhm_8/con_0004/spmT_0001.nii')\n",
    "atlas_widget.nifti_plotter(plotting_func=plotting.plot_stat_map, bg_img = '/home/zohyos7/fmri/mni_icbm152_nlin_asym_09c/1mm_T1.nii.gz', threshold=2, vmax=8, display_mode='ortho', cmap='viridis')"
   ]
  },
  {
   "cell_type": "markdown",
   "metadata": {},
   "source": [
    "## 2nd level two-sample ttest\n",
    "## TOM task : belief > photo contrast, Democrats > Republican (Dr. Ahn's list)"
   ]
  },
  {
   "cell_type": "code",
   "execution_count": 3,
   "metadata": {},
   "outputs": [
    {
     "data": {
      "text/plain": [
       "<Figure size 432x288 with 0 Axes>"
      ]
     },
     "metadata": {},
     "output_type": "display_data"
    },
    {
     "data": {
      "application/vnd.jupyter.widget-view+json": {
       "model_id": "18c6217424c04fc59d4894226890b2ff",
       "version_major": 2,
       "version_minor": 0
      },
      "text/plain": [
       "interactive(children=(Text(value='/home/zohyos7/fmri/mni_icbm152_nlin_asym_09c/1mm_T1.nii.gz', description='bg…"
      ]
     },
     "metadata": {},
     "output_type": "display_data"
    }
   ],
   "source": [
    "atlas_widget = NiftiWidget('/data/wellbeing_analysis/datasink/two_sample/task_tom/con04/spmT_0004.nii')\n",
    "atlas_widget.nifti_plotter(plotting_func=plotting.plot_stat_map, bg_img = '/home/zohyos7/fmri/mni_icbm152_nlin_asym_09c/1mm_T1.nii.gz', threshold=2, vmax=8, display_mode='ortho', cmap='viridis')"
   ]
  },
  {
   "cell_type": "markdown",
   "metadata": {},
   "source": [
    "## TOM task : belief > photo contrast, Democrats > Republican (ALL list)"
   ]
  },
  {
   "cell_type": "code",
   "execution_count": 4,
   "metadata": {},
   "outputs": [
    {
     "data": {
      "text/plain": [
       "<Figure size 432x288 with 0 Axes>"
      ]
     },
     "metadata": {},
     "output_type": "display_data"
    },
    {
     "data": {
      "application/vnd.jupyter.widget-view+json": {
       "model_id": "99b3150be298480b804b6c3a2b343db4",
       "version_major": 2,
       "version_minor": 0
      },
      "text/plain": [
       "interactive(children=(Text(value='/home/zohyos7/fmri/mni_icbm152_nlin_asym_09c/1mm_T1.nii.gz', description='bg…"
      ]
     },
     "metadata": {},
     "output_type": "display_data"
    }
   ],
   "source": [
    "atlas_widget = NiftiWidget('/data/wellbeing_analysis/datasink/two_sample2/task_tom/con04/spmT_0004.nii')\n",
    "atlas_widget.nifti_plotter(plotting_func=plotting.plot_stat_map, bg_img = '/home/zohyos7/fmri/mni_icbm152_nlin_asym_09c/1mm_T1.nii.gz', threshold=2, vmax=8, display_mode='ortho', cmap='viridis')"
   ]
  },
  {
   "cell_type": "markdown",
   "metadata": {},
   "source": [
    "## TOM task : belief > photo contrast, Democrats > Republican (w/o Black list)"
   ]
  },
  {
   "cell_type": "code",
   "execution_count": 10,
   "metadata": {},
   "outputs": [
    {
     "data": {
      "text/plain": [
       "<Figure size 432x288 with 0 Axes>"
      ]
     },
     "metadata": {},
     "output_type": "display_data"
    },
    {
     "data": {
      "application/vnd.jupyter.widget-view+json": {
       "model_id": "975c20bb79354c6982f54244e7ad8a5f",
       "version_major": 2,
       "version_minor": 0
      },
      "text/plain": [
       "interactive(children=(Text(value='/home/zohyos7/fmri/mni_icbm152_nlin_asym_09c/1mm_T1.nii.gz', description='bg…"
      ]
     },
     "metadata": {},
     "output_type": "display_data"
    }
   ],
   "source": [
    "atlas_widget = NiftiWidget('/data/wellbeing_analysis/datasink/BL_two_sample/task_tom/con04/spmT_0004.nii')\n",
    "atlas_widget.nifti_plotter(plotting_func=plotting.plot_stat_map, bg_img = '/home/zohyos7/fmri/mni_icbm152_nlin_asym_09c/1mm_T1.nii.gz', threshold=2, vmax=8, display_mode='ortho', cmap='viridis')"
   ]
  },
  {
   "cell_type": "markdown",
   "metadata": {},
   "source": [
    "# Affect task \n",
    "## 2nd level one-sample ttest\n",
    "## Negative > Neutral contrast (ALL list)"
   ]
  },
  {
   "cell_type": "code",
   "execution_count": 18,
   "metadata": {},
   "outputs": [
    {
     "data": {
      "text/plain": [
       "<Figure size 432x288 with 0 Axes>"
      ]
     },
     "metadata": {},
     "output_type": "display_data"
    },
    {
     "data": {
      "application/vnd.jupyter.widget-view+json": {
       "model_id": "b342cdddfe9e4754af8e81ff54e15e4f",
       "version_major": 2,
       "version_minor": 0
      },
      "text/plain": [
       "interactive(children=(Text(value='/home/zohyos7/fmri/mni_icbm152_nlin_asym_09c/1mm_T1.nii.gz', description='bg…"
      ]
     },
     "metadata": {},
     "output_type": "display_data"
    }
   ],
   "source": [
    "atlas_widget = NiftiWidget('/data/wellbeing_analysis/datasink/2ndLevel/task_affect/fwhm_4/con_0008/spmT_0001.nii')\n",
    "atlas_widget.nifti_plotter(plotting_func=plotting.plot_stat_map, bg_img = '/home/zohyos7/fmri/mni_icbm152_nlin_asym_09c/1mm_T1.nii.gz', threshold=2, vmax=8, display_mode='ortho', cmap='viridis')"
   ]
  },
  {
   "cell_type": "markdown",
   "metadata": {},
   "source": [
    "## Negative > Neutral contrast (w/o Black list)"
   ]
  },
  {
   "cell_type": "code",
   "execution_count": 19,
   "metadata": {},
   "outputs": [
    {
     "data": {
      "text/plain": [
       "<Figure size 432x288 with 0 Axes>"
      ]
     },
     "metadata": {},
     "output_type": "display_data"
    },
    {
     "data": {
      "application/vnd.jupyter.widget-view+json": {
       "model_id": "a1bc4d7c583641599fa79cb09b241c49",
       "version_major": 2,
       "version_minor": 0
      },
      "text/plain": [
       "interactive(children=(Text(value='/home/zohyos7/fmri/mni_icbm152_nlin_asym_09c/1mm_T1.nii.gz', description='bg…"
      ]
     },
     "metadata": {},
     "output_type": "display_data"
    }
   ],
   "source": [
    "atlas_widget = NiftiWidget('/data/wellbeing_analysis/datasink/BL_one_sample/task_affect/fwhm_4/con_0008/spmT_0001.nii')\n",
    "atlas_widget.nifti_plotter(plotting_func=plotting.plot_stat_map, bg_img = '/home/zohyos7/fmri/mni_icbm152_nlin_asym_09c/1mm_T1.nii.gz', threshold=2, vmax=8, display_mode='ortho', cmap='viridis')"
   ]
  },
  {
   "cell_type": "markdown",
   "metadata": {},
   "source": [
    "## 2nd level two-sample ttest\n",
    "## Affect task : Negative > Neutral contrast, Republican > Democrats (Dr. Ahn's list)"
   ]
  },
  {
   "cell_type": "code",
   "execution_count": 8,
   "metadata": {
    "scrolled": false
   },
   "outputs": [
    {
     "data": {
      "text/plain": [
       "<Figure size 432x288 with 0 Axes>"
      ]
     },
     "metadata": {},
     "output_type": "display_data"
    },
    {
     "data": {
      "application/vnd.jupyter.widget-view+json": {
       "model_id": "e62cc21c7e2a4d85a97bf8bf0de583d0",
       "version_major": 2,
       "version_minor": 0
      },
      "text/plain": [
       "interactive(children=(Text(value='/home/zohyos7/fmri/mni_icbm152_nlin_asym_09c/1mm_T1.nii.gz', description='bg…"
      ]
     },
     "metadata": {},
     "output_type": "display_data"
    }
   ],
   "source": [
    "atlas_widget = NiftiWidget('/data/wellbeing_analysis/datasink/two_sample/task_affect/con08/spmT_0003.nii')\n",
    "atlas_widget.nifti_plotter(plotting_func=plotting.plot_stat_map, bg_img = '/home/zohyos7/fmri/mni_icbm152_nlin_asym_09c/1mm_T1.nii.gz', threshold=2, vmax=8, display_mode='ortho', cmap='viridis')"
   ]
  },
  {
   "cell_type": "markdown",
   "metadata": {},
   "source": [
    "## Affect task : Negative > Neutral contrast, Republican > Democrats (ALL list)"
   ]
  },
  {
   "cell_type": "code",
   "execution_count": 9,
   "metadata": {},
   "outputs": [
    {
     "data": {
      "text/plain": [
       "<Figure size 432x288 with 0 Axes>"
      ]
     },
     "metadata": {},
     "output_type": "display_data"
    },
    {
     "data": {
      "application/vnd.jupyter.widget-view+json": {
       "model_id": "f23905d0436b4479a09d243309afee47",
       "version_major": 2,
       "version_minor": 0
      },
      "text/plain": [
       "interactive(children=(Text(value='/home/zohyos7/fmri/mni_icbm152_nlin_asym_09c/1mm_T1.nii.gz', description='bg…"
      ]
     },
     "metadata": {},
     "output_type": "display_data"
    }
   ],
   "source": [
    "atlas_widget = NiftiWidget('/data/wellbeing_analysis/datasink/two_sample2/task_affect/con08/spmT_0003.nii')\n",
    "atlas_widget.nifti_plotter(plotting_func=plotting.plot_stat_map, bg_img = '/home/zohyos7/fmri/mni_icbm152_nlin_asym_09c/1mm_T1.nii.gz', threshold=2, vmax=8, display_mode='ortho', cmap='viridis')"
   ]
  },
  {
   "cell_type": "markdown",
   "metadata": {},
   "source": [
    "## Affect task : Negative > Neutral contrast, Republican > Democrats (w/o Black list)"
   ]
  },
  {
   "cell_type": "code",
   "execution_count": 13,
   "metadata": {
    "scrolled": false
   },
   "outputs": [
    {
     "data": {
      "text/plain": [
       "<Figure size 432x288 with 0 Axes>"
      ]
     },
     "metadata": {},
     "output_type": "display_data"
    },
    {
     "data": {
      "application/vnd.jupyter.widget-view+json": {
       "model_id": "7da056581bf145efb58aa63d601af5c0",
       "version_major": 2,
       "version_minor": 0
      },
      "text/plain": [
       "interactive(children=(Text(value='/home/zohyos7/fmri/mni_icbm152_nlin_asym_09c/1mm_T1.nii.gz', description='bg…"
      ]
     },
     "metadata": {},
     "output_type": "display_data"
    }
   ],
   "source": [
    "atlas_widget = NiftiWidget('/data/wellbeing_analysis/datasink/BL_two_sample/task_affect/con08/spmT_0003.nii')\n",
    "atlas_widget.nifti_plotter(plotting_func=plotting.plot_stat_map, bg_img = '/home/zohyos7/fmri/mni_icbm152_nlin_asym_09c/1mm_T1.nii.gz', threshold=2, vmax=8, display_mode='ortho', cmap='viridis')"
   ]
  }
 ],
 "metadata": {
  "kernelspec": {
   "display_name": "Python 3",
   "language": "python",
   "name": "python3"
  },
  "language_info": {
   "codemirror_mode": {
    "name": "ipython",
    "version": 3
   },
   "file_extension": ".py",
   "mimetype": "text/x-python",
   "name": "python",
   "nbconvert_exporter": "python",
   "pygments_lexer": "ipython3",
   "version": "3.6.5"
  }
 },
 "nbformat": 4,
 "nbformat_minor": 2
}
