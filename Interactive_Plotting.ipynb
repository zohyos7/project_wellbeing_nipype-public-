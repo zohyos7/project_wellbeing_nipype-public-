{
 "cells": [
  {
   "cell_type": "code",
   "execution_count": 3,
   "metadata": {},
   "outputs": [
    {
     "data": {
      "text/plain": [
       "<Figure size 432x288 with 0 Axes>"
      ]
     },
     "metadata": {},
     "output_type": "display_data"
    },
    {
     "data": {
      "application/vnd.jupyter.widget-view+json": {
       "model_id": "c7700b406e4e4a9286d2792cf797f8ca",
       "version_major": 2,
       "version_minor": 0
      },
      "text/plain": [
       "interactive(children=(Dropdown(description='colormap', options=('viridis', 'Accent', 'Blues', 'BrBG', 'BuGn', …"
      ]
     },
     "metadata": {},
     "output_type": "display_data"
    }
   ],
   "source": [
    "from niwidgets import NiftiWidget\n",
    "from nilearn import plotting\n",
    "atlas_widget = NiftiWidget('/data/wellbeing_analysis/datasink/2ndLevel/task_tom/fwhm_4/con_0001/mask.nii')\n",
    "atlas_widget.nifti_plotter(plotting_func=plotting.plot_img)"
   ]
  },
  {
   "cell_type": "markdown",
   "metadata": {},
   "source": [
    "# TOM task \n",
    "## 2nd level one-sample ttest\n",
    "## belief > photo contrast"
   ]
  },
  {
   "cell_type": "code",
   "execution_count": 5,
   "metadata": {
    "scrolled": false
   },
   "outputs": [
    {
     "data": {
      "text/plain": [
       "<Figure size 432x288 with 0 Axes>"
      ]
     },
     "metadata": {},
     "output_type": "display_data"
    },
    {
     "data": {
      "application/vnd.jupyter.widget-view+json": {
       "model_id": "7063bb500f9f4676a1f342e6e7cff7ad",
       "version_major": 2,
       "version_minor": 0
      },
      "text/plain": [
       "interactive(children=(Text(value='/home/zohyos7/fmri/mni_icbm152_nlin_asym_09c/1mm_T1.nii.gz', description='bg…"
      ]
     },
     "metadata": {},
     "output_type": "display_data"
    }
   ],
   "source": [
    "atlas_widget = NiftiWidget('/data/wellbeing_analysis/datasink/2ndLevel/task_tom/fwhm_4/con_0004/spmT_0001_thr.nii')\n",
    "atlas_widget.nifti_plotter(plotting_func=plotting.plot_stat_map, bg_img = '/home/zohyos7/fmri/mni_icbm152_nlin_asym_09c/1mm_T1.nii.gz', threshold=2, vmax=8, display_mode='ortho', cmap='viridis')"
   ]
  },
  {
   "cell_type": "markdown",
   "metadata": {},
   "source": [
    "## 2nd level two-sample ttest\n",
    "## TOM task : belief > photo contrast, Democrats > Republican (Dr. Ahn's list)"
   ]
  },
  {
   "cell_type": "code",
   "execution_count": 7,
   "metadata": {},
   "outputs": [
    {
     "data": {
      "text/plain": [
       "<Figure size 432x288 with 0 Axes>"
      ]
     },
     "metadata": {},
     "output_type": "display_data"
    },
    {
     "data": {
      "application/vnd.jupyter.widget-view+json": {
       "model_id": "24648fb6b2d84423b6806caf830f261b",
       "version_major": 2,
       "version_minor": 0
      },
      "text/plain": [
       "interactive(children=(Text(value='/home/zohyos7/fmri/mni_icbm152_nlin_asym_09c/1mm_T1.nii.gz', description='bg…"
      ]
     },
     "metadata": {},
     "output_type": "display_data"
    }
   ],
   "source": [
    "atlas_widget = NiftiWidget('/data/wellbeing_analysis/datasink/two_sample/task_tom/con04/spmT_0004.nii')\n",
    "atlas_widget.nifti_plotter(plotting_func=plotting.plot_stat_map, bg_img = '/home/zohyos7/fmri/mni_icbm152_nlin_asym_09c/1mm_T1.nii.gz', threshold=2, vmax=8, display_mode='ortho', cmap='viridis')"
   ]
  },
  {
   "cell_type": "markdown",
   "metadata": {},
   "source": [
    "## TOM task : belief > photo contrast, Democrats > Republican (ALL list)"
   ]
  },
  {
   "cell_type": "code",
   "execution_count": 8,
   "metadata": {},
   "outputs": [
    {
     "data": {
      "text/plain": [
       "<Figure size 432x288 with 0 Axes>"
      ]
     },
     "metadata": {},
     "output_type": "display_data"
    },
    {
     "data": {
      "application/vnd.jupyter.widget-view+json": {
       "model_id": "dd5c6884268a46bd92bc340745793e56",
       "version_major": 2,
       "version_minor": 0
      },
      "text/plain": [
       "interactive(children=(Text(value='/home/zohyos7/fmri/mni_icbm152_nlin_asym_09c/1mm_T1.nii.gz', description='bg…"
      ]
     },
     "metadata": {},
     "output_type": "display_data"
    }
   ],
   "source": [
    "atlas_widget = NiftiWidget('/data/wellbeing_analysis/datasink/two_sample2/task_tom/con04/spmT_0004.nii')\n",
    "atlas_widget.nifti_plotter(plotting_func=plotting.plot_stat_map, bg_img = '/home/zohyos7/fmri/mni_icbm152_nlin_asym_09c/1mm_T1.nii.gz', threshold=2, vmax=8, display_mode='ortho', cmap='viridis')"
   ]
  },
  {
   "cell_type": "markdown",
   "metadata": {},
   "source": [
    "## 2nd level two-sample ttest\n",
    "## AFFECT task : Negative > Neutral contrast, Republican > Democrats (Dr. Ahn's list)"
   ]
  },
  {
   "cell_type": "code",
   "execution_count": 10,
   "metadata": {},
   "outputs": [
    {
     "data": {
      "text/plain": [
       "<Figure size 432x288 with 0 Axes>"
      ]
     },
     "metadata": {},
     "output_type": "display_data"
    },
    {
     "data": {
      "application/vnd.jupyter.widget-view+json": {
       "model_id": "46f142b7efc745f18fa286e1beca711e",
       "version_major": 2,
       "version_minor": 0
      },
      "text/plain": [
       "interactive(children=(Text(value='/home/zohyos7/fmri/mni_icbm152_nlin_asym_09c/1mm_T1.nii.gz', description='bg…"
      ]
     },
     "metadata": {},
     "output_type": "display_data"
    }
   ],
   "source": [
    "atlas_widget = NiftiWidget('/data/wellbeing_analysis/datasink/two_sample/task_tom/con04/spmT_0004.nii')\n",
    "atlas_widget.nifti_plotter(plotting_func=plotting.plot_stat_map, bg_img = '/home/zohyos7/fmri/mni_icbm152_nlin_asym_09c/1mm_T1.nii.gz', threshold=2, vmax=8, display_mode='ortho', cmap='viridis')"
   ]
  },
  {
   "cell_type": "code",
   "execution_count": 11,
   "metadata": {},
   "outputs": [
    {
     "data": {
      "text/plain": [
       "<Figure size 432x288 with 0 Axes>"
      ]
     },
     "metadata": {},
     "output_type": "display_data"
    },
    {
     "data": {
      "application/vnd.jupyter.widget-view+json": {
       "model_id": "bc9bf26367b24bb4a19009c3c509d79f",
       "version_major": 2,
       "version_minor": 0
      },
      "text/plain": [
       "interactive(children=(Text(value='/home/zohyos7/fmri/mni_icbm152_nlin_asym_09c/1mm_T1.nii.gz', description='bg…"
      ]
     },
     "metadata": {},
     "output_type": "display_data"
    }
   ],
   "source": [
    "atlas_widget = NiftiWidget('/data/wellbeing_analysis/datasink/two_sample2/task_tom/con04/spmT_0004.nii')\n",
    "atlas_widget.nifti_plotter(plotting_func=plotting.plot_stat_map, bg_img = '/home/zohyos7/fmri/mni_icbm152_nlin_asym_09c/1mm_T1.nii.gz', threshold=2, vmax=8, display_mode='ortho', cmap='viridis')"
   ]
  },
  {
   "cell_type": "markdown",
   "metadata": {},
   "source": [
    "# Affect task \n",
    "## 2nd level one-sample ttest\n",
    "## Negative > Neutral contrast"
   ]
  },
  {
   "cell_type": "code",
   "execution_count": 6,
   "metadata": {},
   "outputs": [
    {
     "data": {
      "text/plain": [
       "<Figure size 432x288 with 0 Axes>"
      ]
     },
     "metadata": {},
     "output_type": "display_data"
    },
    {
     "data": {
      "application/vnd.jupyter.widget-view+json": {
       "model_id": "4dadff4aa68c4da9aaf6a3854d21a369",
       "version_major": 2,
       "version_minor": 0
      },
      "text/plain": [
       "interactive(children=(Text(value='/home/zohyos7/fmri/mni_icbm152_nlin_asym_09c/1mm_T1.nii.gz', description='bg…"
      ]
     },
     "metadata": {},
     "output_type": "display_data"
    }
   ],
   "source": [
    "atlas_widget = NiftiWidget('/data/wellbeing_analysis/datasink/2ndLevel/task_affect/fwhm_4/con_0008/spmT_0001_thr.nii')\n",
    "atlas_widget.nifti_plotter(plotting_func=plotting.plot_stat_map, bg_img = '/home/zohyos7/fmri/mni_icbm152_nlin_asym_09c/1mm_T1.nii.gz', threshold=2, vmax=8, display_mode='ortho', cmap='viridis')"
   ]
  },
  {
   "cell_type": "markdown",
   "metadata": {},
   "source": [
    "## 2nd level two-sample ttest\n",
    "## Affect task : Negative > Neutral contrast, Republican > Democrats (Dr. Ahn's list)"
   ]
  },
  {
   "cell_type": "code",
   "execution_count": 13,
   "metadata": {
    "scrolled": false
   },
   "outputs": [
    {
     "data": {
      "text/plain": [
       "<Figure size 432x288 with 0 Axes>"
      ]
     },
     "metadata": {},
     "output_type": "display_data"
    },
    {
     "data": {
      "application/vnd.jupyter.widget-view+json": {
       "model_id": "7e9c8634b37d442d858245880e4163f4",
       "version_major": 2,
       "version_minor": 0
      },
      "text/plain": [
       "interactive(children=(Text(value='/home/zohyos7/fmri/mni_icbm152_nlin_asym_09c/1mm_T1.nii.gz', description='bg…"
      ]
     },
     "metadata": {},
     "output_type": "display_data"
    }
   ],
   "source": [
    "atlas_widget = NiftiWidget('/data/wellbeing_analysis/datasink/two_sample/task_affect/con08/spmT_0003.nii')\n",
    "atlas_widget.nifti_plotter(plotting_func=plotting.plot_stat_map, bg_img = '/home/zohyos7/fmri/mni_icbm152_nlin_asym_09c/1mm_T1.nii.gz', threshold=2, vmax=8, display_mode='ortho', cmap='viridis')"
   ]
  },
  {
   "cell_type": "markdown",
   "metadata": {},
   "source": [
    "## Affect task : Negative > Neutral contrast, Republican > Democrats (ALL list)"
   ]
  },
  {
   "cell_type": "code",
   "execution_count": 14,
   "metadata": {},
   "outputs": [
    {
     "data": {
      "text/plain": [
       "<Figure size 432x288 with 0 Axes>"
      ]
     },
     "metadata": {},
     "output_type": "display_data"
    },
    {
     "data": {
      "application/vnd.jupyter.widget-view+json": {
       "model_id": "8dc3415c010b4d9ab502a8fb3f8c2b4b",
       "version_major": 2,
       "version_minor": 0
      },
      "text/plain": [
       "interactive(children=(Text(value='/home/zohyos7/fmri/mni_icbm152_nlin_asym_09c/1mm_T1.nii.gz', description='bg…"
      ]
     },
     "metadata": {},
     "output_type": "display_data"
    }
   ],
   "source": [
    "atlas_widget = NiftiWidget('/data/wellbeing_analysis/datasink/two_sample2/task_affect/con08/spmT_0003.nii')\n",
    "atlas_widget.nifti_plotter(plotting_func=plotting.plot_stat_map, bg_img = '/home/zohyos7/fmri/mni_icbm152_nlin_asym_09c/1mm_T1.nii.gz', threshold=2, vmax=8, display_mode='ortho', cmap='viridis')"
   ]
  }
 ],
 "metadata": {
  "kernelspec": {
   "display_name": "Python 3",
   "language": "python",
   "name": "python3"
  },
  "language_info": {
   "codemirror_mode": {
    "name": "ipython",
    "version": 3
   },
   "file_extension": ".py",
   "mimetype": "text/x-python",
   "name": "python",
   "nbconvert_exporter": "python",
   "pygments_lexer": "ipython3",
   "version": "3.6.5"
  }
 },
 "nbformat": 4,
 "nbformat_minor": 2
}
