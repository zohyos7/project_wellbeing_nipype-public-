{
 "cells": [
  {
   "cell_type": "markdown",
   "metadata": {},
   "source": [
    "# Normalization PREP with ANT (Registration function)"
   ]
  },
  {
   "cell_type": "code",
   "execution_count": 12,
   "metadata": {},
   "outputs": [],
   "source": [
    "import os\n",
    "from os.path import join as opj\n",
    "from nipype.interfaces.ants import Registration\n",
    "from nipype.interfaces.utility import IdentityInterface\n",
    "from nipype.interfaces.io import SelectFiles, DataSink\n",
    "from nipype import Workflow, Node\n",
    "from nipype.interfaces.fsl import Info"
   ]
  },
  {
   "cell_type": "code",
   "execution_count": 13,
   "metadata": {},
   "outputs": [],
   "source": [
    "experiment_dir = '/data/wellbeing_analysis'\n",
    "output_dir = 'datasink'\n",
    "working_dir = 'workingdir'\n",
    "\n",
    "#subject list\n",
    "subject_list = os.listdir(\"/data/wellbeing_bids\")\n",
    "subject_list.remove('dataset_description.json')\n",
    "\n",
    "subject_list = [sub[-4:] for sub in subject_list]\n",
    "\n",
    "# list of session identifiers\n",
    "task_list = ['empathy']\n",
    "\n",
    "template = '/home/zohyos7/fmri/mni_icbm152_nlin_asym_09c/1mm_T1.nii.gz'"
   ]
  },
  {
   "cell_type": "code",
   "execution_count": 14,
   "metadata": {},
   "outputs": [],
   "source": [
    "subject_list_done_reg = os.listdir(\"/data/wellbeing_analysis/datasink/antsreg\")\n",
    "subject_list_done_reg = [sub[-4:] for sub in subject_list_done_reg]\n",
    "subject_list_done_reg\n",
    "\n",
    "full_subject_list = os.listdir(\"/data/wellbeing_bids\")\n",
    "full_subject_list.remove('dataset_description.json')\n",
    "full_subject_list = [sub[-4:] for sub in full_subject_list]\n",
    "full_subject_list.sort()"
   ]
  },
  {
   "cell_type": "code",
   "execution_count": null,
   "metadata": {},
   "outputs": [],
   "source": [
    "subject_list = list(set(full_subject_list)^set(subject_list_done_reg))"
   ]
  },
  {
   "cell_type": "code",
   "execution_count": 16,
   "metadata": {},
   "outputs": [],
   "source": [
    "antsreg = Node(Registration(args='--float',\n",
    "                            collapse_output_transforms=True,\n",
    "                            fixed_image=template,\n",
    "                            initial_moving_transform_com=True,\n",
    "                            num_threads=4,\n",
    "                            output_inverse_warped_image=True,\n",
    "                            output_warped_image=True,\n",
    "                            sigma_units=['vox'] * 3,\n",
    "                            transforms=['Rigid', 'Affine', 'SyN'],\n",
    "                            terminal_output='file',\n",
    "                            winsorize_lower_quantile=0.005,\n",
    "                            winsorize_upper_quantile=0.995,\n",
    "                            convergence_threshold=[1e-06],\n",
    "                            convergence_window_size=[10],\n",
    "                            metric=['MI', 'MI', 'CC'],\n",
    "                            metric_weight=[1.0] * 3,\n",
    "                            number_of_iterations=[[1000, 500, 250, 100],\n",
    "                                                  [1000, 500, 250, 100],\n",
    "                                                  [100, 70, 50, 20]],\n",
    "                            radius_or_number_of_bins=[32, 32, 4],\n",
    "                            sampling_percentage=[0.25, 0.25, 1],\n",
    "                            sampling_strategy=['Regular', 'Regular', 'None'],\n",
    "                            shrink_factors=[[8, 4, 2, 1]] * 3,\n",
    "                            smoothing_sigmas=[[3, 2, 1, 0]] * 3,\n",
    "                            transform_parameters=[(0.1,), (0.1,),\n",
    "                                                  (0.1, 3.0, 0.0)],\n",
    "                            use_histogram_matching=True,\n",
    "                            write_composite_transform=True),\n",
    "               name='antsreg')"
   ]
  },
  {
   "cell_type": "code",
   "execution_count": 17,
   "metadata": {},
   "outputs": [],
   "source": [
    "# Infosource - a function free node to iterate over the list of subject names\n",
    "infosource = Node(IdentityInterface(fields=['subject_id']),\n",
    "                  name=\"infosource\")\n",
    "infosource.iterables = [('subject_id', subject_list)]\n",
    "\n",
    "# SelectFiles - to grab the data (alternative to DataGrabber)\n",
    "anat_file = opj('sub-{subject_id}', 'anat', 'sub-{subject_id}_T1w.nii.gz')\n",
    "templates = {'anat': anat_file}\n",
    "\n",
    "selectfiles = Node(SelectFiles(templates,\n",
    "                               base_directory='/data/wellbeing_bids'),\n",
    "                   name=\"selectfiles\")\n",
    "\n",
    "# Datasink - creates output folder for important outputs\n",
    "datasink = Node(DataSink(base_directory=experiment_dir,\n",
    "                         container=output_dir),\n",
    "                name=\"datasink\")\n",
    "\n",
    "# Use the following DataSink output substitutions\n",
    "substitutions = [('_subject_id_', 'sub-')]\n",
    "datasink.inputs.substitutions = substitutions\n",
    "\n",
    "###\n",
    "# Specify Normalization Workflow & Connect Nodes\n",
    "\n",
    "# Initiation of the ANTS normalization workflow\n",
    "regflow = Workflow(name='regflow')\n",
    "regflow.base_dir = opj(experiment_dir, working_dir)\n",
    "\n",
    "# Connect workflow nodes\n",
    "regflow.connect([(infosource, selectfiles, [('subject_id', 'subject_id')]),\n",
    "                 (selectfiles, antsreg, [('anat', 'moving_image')]),\n",
    "                 (antsreg, datasink, [('warped_image',\n",
    "                                       'antsreg.@warped_image'),\n",
    "                                      ('inverse_warped_image',\n",
    "                                       'antsreg.@inverse_warped_image'),\n",
    "                                      ('composite_transform',\n",
    "                                       'antsreg.@transform'),\n",
    "                                      ('inverse_composite_transform',\n",
    "                                       'antsreg.@inverse_transform')]),\n",
    "                 ])"
   ]
  },
  {
   "cell_type": "code",
   "execution_count": 18,
   "metadata": {},
   "outputs": [
    {
     "name": "stdout",
     "output_type": "stream",
     "text": [
      "180917-19:00:07,754 nipype.workflow INFO:\n",
      "\t Generated workflow graph: /data/wellbeing_analysis/workingdir/regflow/graph.png (graph2use=colored, simple_form=True).\n"
     ]
    },
    {
     "data": {
      "text/plain": [
       "'/data/wellbeing_analysis/workingdir/regflow/graph.png'"
      ]
     },
     "execution_count": 18,
     "metadata": {},
     "output_type": "execute_result"
    }
   ],
   "source": [
    "# Run Workflow\n",
    "regflow.write_graph(graph2use='colored', format ='png', simple_form=True)"
   ]
  },
  {
   "cell_type": "code",
   "execution_count": 19,
   "metadata": {},
   "outputs": [
    {
     "data": {
      "image/png": "[encoded data removed]",
      "text/plain": [
       "<IPython.core.display.Image object>"
      ]
     },
     "execution_count": 19,
     "metadata": {},
     "output_type": "execute_result"
    }
   ],
   "source": [
    "from IPython.display import Image\n",
    "Image(filename= '/data/wellbeing_analysis/workingdir/regflow/graph.png')"
   ]
  },
  {
   "cell_type": "code",
   "execution_count": null,
   "metadata": {},
   "outputs": [],
   "source": [
    "regflow.run('MultiProc', plugin_args={'n_procs':15})"
   ]
  }
 ],
 "metadata": {
  "kernelspec": {
   "display_name": "Python 3",
   "language": "python",
   "name": "python3"
  },
  "language_info": {
   "codemirror_mode": {
    "name": "ipython",
    "version": 3
   },
   "file_extension": ".py",
   "mimetype": "text/x-python",
   "name": "python",
   "nbconvert_exporter": "python",
   "pygments_lexer": "ipython3",
   "version": "3.6.5"
  }
 },
 "nbformat": 4,
 "nbformat_minor": 2
}
